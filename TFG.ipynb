{
  "nbformat": 4,
  "nbformat_minor": 0,
  "metadata": {
    "colab": {
      "provenance": [],
      "authorship_tag": "ABX9TyO0GC7Y9lGy+pxjfKiV/c9R",
      "include_colab_link": true
    },
    "kernelspec": {
      "name": "python3",
      "display_name": "Python 3"
    },
    "language_info": {
      "name": "python"
    }
  },
  "cells": [
    {
      "cell_type": "markdown",
      "metadata": {
        "id": "view-in-github",
        "colab_type": "text"
      },
      "source": [
        "<a href=\"https://colab.research.google.com/github/GabiSnow/EvolutiveNeuralNetwork/blob/main/TFG.ipynb\" target=\"_parent\"><img src=\"https://colab.research.google.com/assets/colab-badge.svg\" alt=\"Open In Colab\"/></a>"
      ]
    },
    {
      "cell_type": "markdown",
      "source": [
        "**Includes**\n",
        "\n"
      ],
      "metadata": {
        "id": "MQCvqB96l8TY"
      }
    },
    {
      "cell_type": "code",
      "source": [
        "from operator import truediv\n",
        "from wsgiref.validate import validator\n",
        "import pandas as pd\n",
        "import numpy as np\n",
        "import matplotlib.pyplot as plt\n",
        "import random\n",
        "import math\n",
        "import copy"
      ],
      "metadata": {
        "id": "LU1N5d0MmGBx"
      },
      "execution_count": null,
      "outputs": []
    },
    {
      "cell_type": "markdown",
      "source": [
        "**Variables globales**"
      ],
      "metadata": {
        "id": "sTJmEcJiZOfw"
      }
    },
    {
      "cell_type": "code",
      "source": [
        "# Inicial de cada Palo, Terbol, Picas, Corazones y Diamantes\n",
        "nombrePalos = [\"T\",\"P\",\"C\",\"D\"]\n",
        "\n",
        "# Tamaño del tablero\n",
        "NumColums = 10\n",
        "NumFilas = 28\n",
        "\n",
        "# Para controlar los pesos y el limite de la población inicial\n",
        "# numero de neuronas en capa oculta y capa oculta\n",
        "nEntradas = NumColums*NumFilas\n",
        "nOcultas = int((2/3) * nEntradas)\n",
        "\n",
        "# Tamaño de la poblacion a generar\n",
        "nIndividuos = 90\n",
        "\n",
        "# factor Nguyen Widrow\n",
        "# el limite de los valores para los sesgos esta comprendido entre -B y +B\n",
        "factorB = pow((0.7 * nOcultas),( 1/nEntradas))\n",
        "\n",
        "# Valores de los operadores geneticos\n",
        "k = 8 # Tamaño del torneo\n",
        "cProb = 0.65 # Probabilidad de cruce\n",
        "mProb = 0.55 # Probabilidad de mutacion\n",
        "\n",
        "# Numero de veces que se ejecuta el algoritmo evolutivo para una poblacion de un mismo tablero\n",
        "nIteraEvol = 16\n",
        "\n",
        "# Numero de tableros sobre los que trabajaremos\n",
        "numTabl = 10"
      ],
      "metadata": {
        "id": "QFsxpg7TZSBC"
      },
      "execution_count": null,
      "outputs": []
    },
    {
      "cell_type": "markdown",
      "source": [
        "**Declaración de la clase Carta**"
      ],
      "metadata": {
        "id": "zT7ckj82mKvp"
      }
    },
    {
      "cell_type": "code",
      "source": [
        "class carta ():\n",
        "  valor = 0\n",
        "  oculta = True\n",
        "  palo = 0\n",
        "\n",
        "  def __init__(self,val,ocul,pal):\n",
        "      self.valor = val\n",
        "      self.oculta = ocul\n",
        "      self.palo = pal\n",
        "\n",
        "  def setPos(self,ocul):\n",
        "      self.oculta = ocul\n",
        "\n",
        "  def __repr__(self):\n",
        "\n",
        "    if self.valor == 0:\n",
        "      return \"   \"\n",
        "\n",
        "    if self.oculta == True:\n",
        "      return \"XXX\"\n",
        "\n",
        "    v = str(self.valor)\n",
        "    if self.valor < 10:\n",
        "      v = v + \" \"\n",
        "    return nombrePalos[self.palo] + v\n",
        "\n",
        "# valor:\n",
        "# 1 - 10 -> cartas del 1 al  10\n",
        "# 11 -> J\n",
        "# 12 -> Q\n",
        "# 13 -> K\n",
        "\n",
        "# val -> valor numerico de la carta\n",
        "# ocul -> true si la carta esta oculta\n",
        "# pal -> palo de la carta , van del 0 al 3"
      ],
      "metadata": {
        "id": "WB2MKCHBmOf6"
      },
      "execution_count": null,
      "outputs": []
    },
    {
      "cell_type": "markdown",
      "source": [
        "**Declaración de la clase Tablero**\n",
        "\n",
        "Clase con una matriz que representa el tablero de juego, tambien tenemos el array UltimaCarta que nos dice cuantas cartas hay en cada fila, y barajaRest que guarda la baraja restante"
      ],
      "metadata": {
        "id": "RIrI9i2Ibrol"
      }
    },
    {
      "cell_type": "code",
      "source": [
        "class tableroClass ():\n",
        "  tablero = []\n",
        "  tableroRed = [] # tablero adaptado como entrada de la red neuronal\n",
        "  ultimaCarta = []\n",
        "  barajaRest = []\n",
        "\n",
        "  def __init__(self,tabler,ult,barajaR):\n",
        "      self.tablero = tabler\n",
        "      self.ultimaCarta = ult\n",
        "      self.barajaRest = barajaR\n",
        "\n",
        "      tam = self.tablero.shape\n",
        "\n",
        "      fil = tam[0]\n",
        "      col = tam[1]\n",
        "\n",
        "      self.tableroRed = []\n",
        "      for i in range (fil):\n",
        "        for j in range(col):\n",
        "          self.tableroRed.append(self.tablero[i,j].valor + 100*self.tablero[i,j].palo)\n",
        "\n",
        "  def __repr__(self):\n",
        "      return \"\\n-------------------------------\\n\" + str(self.tablero) + \"\\n\\n\" + str(self.ultimaCarta)"
      ],
      "metadata": {
        "id": "d1it-VwobsDK"
      },
      "execution_count": null,
      "outputs": []
    },
    {
      "cell_type": "markdown",
      "source": [
        "**Genera un tablero aleatorio**"
      ],
      "metadata": {
        "id": "Z3nNGkRcrOBJ"
      }
    },
    {
      "cell_type": "code",
      "source": [
        "barajaGeneral = []\n",
        "# Creo una bajara unica ordenada que contendria las 2 barajas de 52 cartas (4 palos)\n",
        "\n",
        "# bucle por palo\n",
        "for paloA in range(4):\n",
        "  # bucle por numero de carta\n",
        "  for cartaA in range(13):\n",
        "    # 2 veces porque hay 2 cartas de cada tipo\n",
        "    barajaGeneral.append(carta(cartaA + 1,True,paloA))\n",
        "    barajaGeneral.append(carta(cartaA + 1,True,paloA))"
      ],
      "metadata": {
        "id": "gfMh5SLFwrtt"
      },
      "execution_count": null,
      "outputs": []
    },
    {
      "cell_type": "code",
      "source": [
        "cartNula = carta(0,False,-1)\n",
        "\n",
        "def generaTableroAle():\n",
        "\n",
        "  nuevaBaraja = []\n",
        "  nuevaBaraja[:] = barajaGeneral\n",
        "\n",
        "  # Barajamos la baraja\n",
        "  for i in range(150):\n",
        "\n",
        "    # Se eligen dos cartas aleatorias y se intercambian entre si\n",
        "    car1 = random.randint(0,103)\n",
        "    car2 = random.randint(0,103)\n",
        "\n",
        "    aux = nuevaBaraja[car1]\n",
        "    nuevaBaraja[car1] = nuevaBaraja[car2]\n",
        "    nuevaBaraja[car2] = aux\n",
        "\n",
        "  tableroN = np.full((NumFilas,NumColums),cartNula)\n",
        "  for i in range(4):\n",
        "    for j in range(10):\n",
        "      tableroN[i][j] = copy.copy(nuevaBaraja.pop())\n",
        "\n",
        "  for j in range(4):\n",
        "    tableroN[4][j] = copy.copy(nuevaBaraja.pop())\n",
        "\n",
        "  for j in range(6):\n",
        "    cartAux = copy.copy(nuevaBaraja.pop())\n",
        "    cartAux.oculta = False\n",
        "    tableroN[4][j+4] = cartAux\n",
        "\n",
        "  for j in range(4):\n",
        "    cartAux = copy.copy(nuevaBaraja.pop())\n",
        "    cartAux.oculta = False\n",
        "    tableroN[5][j] = cartAux\n",
        "\n",
        "  ultimaC = [5,5,5,5,4,4,4,4,4,4]\n",
        "\n",
        "  return tableroClass(tableroN,ultimaC,nuevaBaraja)"
      ],
      "metadata": {
        "id": "RfqK4WvLrORg"
      },
      "execution_count": null,
      "outputs": []
    },
    {
      "cell_type": "markdown",
      "source": [
        "**Lista de las opciones posibles**\n",
        "\n",
        "Genera todos los posibles movimientos a partir del estado actual de un determinado tablero\n"
      ],
      "metadata": {
        "id": "DQKPcbjbmfb8"
      }
    },
    {
      "cell_type": "code",
      "execution_count": null,
      "metadata": {
        "id": "pPi91Y4TlKwg"
      },
      "outputs": [],
      "source": [
        "def opciones(tab):\n",
        "\n",
        "  tablero = tab.tablero\n",
        "  ultimaCarta = tab.ultimaCarta\n",
        "  baraja = tab.barajaRest\n",
        "  # A partir de la ultima carta o un conjunto de cartas de una columna\n",
        "  # se comprueba si se puede mover a alguna otra columna\n",
        "\n",
        "  # lista de posibles tableros\n",
        "\n",
        "  solucion = []\n",
        "\n",
        "  # bucle que recorre cada columna\n",
        "  for i in range(NumColums-1,-1,-1):\n",
        "\n",
        "      posCarta = ultimaCarta[i]\n",
        "\n",
        "      # para evitar columnas vacias\n",
        "      if posCarta != -1:\n",
        "\n",
        "          #cartaAnterior = tablero[posCarta,i].valor -1\n",
        "          conjunto = []\n",
        "\n",
        "          # Recorro todas las cartas de la columna (mientras esten en orden)\n",
        "          for cart in range(posCarta,-1,-1):\n",
        "\n",
        "              # la carta que estamos mirando\n",
        "              cartaActual = tablero[cart,i]\n",
        "\n",
        "              # compruebo si se puede añadir la carta al conjunto\n",
        "              # para ello debe ser consecutiva, del mismo palo y no estar oculta\n",
        "              if len(conjunto) == 0:\n",
        "                conjunto.append(cartaActual)\n",
        "              else:\n",
        "                  if (conjunto[-1].valor == cartaActual.valor - 1\n",
        "                      and conjunto[-1].palo == cartaActual.palo and cartaActual.oculta == False):\n",
        "                    conjunto.append(cartaActual)\n",
        "                  else:\n",
        "                    break\n",
        "\n",
        "              # se comprueba a que posiciones nuevas se puede mover la carta / el conjunto\n",
        "              for j in range(NumColums):\n",
        "                  if j != i:\n",
        "\n",
        "                      # valor que deberia tener la carta de otra columna para poder moverla\n",
        "                      valorCartaSig = cartaActual.valor + 1\n",
        "\n",
        "                      # guardamos la siguiente carta a mirar\n",
        "                      sig = tablero[ultimaCarta[j],j]\n",
        "\n",
        "\n",
        "                      if sig.valor == valorCartaSig or ultimaCarta[j] == -1:\n",
        "\n",
        "                          # generamos el nuevo tablero y la nueva lista de ultimas cartas\n",
        "\n",
        "                          proxTablero = np.empty_like(tablero)\n",
        "                          proxTablero[:] = tablero\n",
        "\n",
        "                          proxUltimaCarta = []\n",
        "                          proxUltimaCarta[:] = ultimaCarta\n",
        "\n",
        "                          proxBaraja = []\n",
        "                          proxBaraja[:] = baraja\n",
        "\n",
        "                          numCartasConjunto = np.size(conjunto)\n",
        "                          pos = ultimaCarta[j]\n",
        "\n",
        "                          proxTablero[pos+1:pos+1+numCartasConjunto,j] = list(reversed(conjunto))\n",
        "\n",
        "                          proxTablero[cart:cart+numCartasConjunto,i] = cartNula\n",
        "\n",
        "                          # La carta anterior pasa a dejar de estar oculta (en caso de que lo estuviese)\n",
        "                          if cart-1 >= 0:\n",
        "                            proxTablero[cart-1,i] = copy.copy(proxTablero[cart-1,i])\n",
        "                            proxTablero[cart-1,i].oculta = False\n",
        "\n",
        "                          proxUltimaCarta[i] = proxUltimaCarta[i] - numCartasConjunto\n",
        "                          proxUltimaCarta[j] = proxUltimaCarta[j] + numCartasConjunto\n",
        "\n",
        "                          solucion.append(tableroClass(proxTablero,proxUltimaCarta,proxBaraja))\n",
        "\n",
        "              # para considerar el anterior en la siguiente iteración\n",
        "              #cartaAnterior = cartaActual\n",
        "\n",
        "  return solucion\n",
        "\n",
        "#tabler = creaTablero()\n",
        "#print(tabler)\n",
        "#opciones(tabler)"
      ]
    },
    {
      "cell_type": "markdown",
      "source": [
        "**Declaracion del Fitness**\n",
        "\n",
        "El fitness en este caso es bastante simple, se puntua cuando dos cartas correlativas tienen un valor consecutivo, y se recibe una puntuacion extra si el palo de ambas cartas es el mismo, esto hace que se valore mucho mas un conjunto de cartas consecutivas donde todas sean del mismo palo a un conjunto con distintos palos."
      ],
      "metadata": {
        "id": "UVEjfYLsdazJ"
      }
    },
    {
      "cell_type": "code",
      "source": [
        "def fitness(tab):\n",
        "\n",
        "  puntuacion = 0\n",
        "  tablero = tab.tablero\n",
        "  ultimaCarta = tab.ultimaCarta\n",
        "\n",
        "  for i in range(NumColums-1,-1,-1):\n",
        "\n",
        "      posCarta = ultimaCarta[i]\n",
        "\n",
        "      # para evitar columnas vacias\n",
        "      if posCarta != -1:\n",
        "\n",
        "          conjunto = []\n",
        "\n",
        "          # la variable Incremento hace que se le de mas valor\n",
        "          #a que dos cartas consecutivas sean del mismo palo\n",
        "          incremento = 0.5\n",
        "\n",
        "          # Recorro todas las cartas de la columna (mientras esten en orden)\n",
        "          for cart in range(posCarta,-1,-1):\n",
        "\n",
        "              # la carta que estamos mirando\n",
        "              cartaActual = tablero[cart,i]\n",
        "\n",
        "              # compruebo si se puede añadir la carta al conjunto\n",
        "              # para ello debe ser consecutiva, del mismo palo y no estar oculta\n",
        "              if len(conjunto) == 0:\n",
        "                conjunto.append(cartaActual)\n",
        "              else:\n",
        "                  if (conjunto[-1].valor == cartaActual.valor - 1 and cartaActual.oculta == False):\n",
        "                    puntuacion += 0.5\n",
        "                    conjunto.append(cartaActual)\n",
        "\n",
        "                    if (conjunto[-1].palo == cartaActual.palo):\n",
        "                      puntuacion += incremento\n",
        "                      incremento += 0.4 # esto se puede cambiar para regular el crecimiento\n",
        "                  else:\n",
        "                    break\n",
        "\n",
        "  return puntuacion/10"
      ],
      "metadata": {
        "id": "0xTTJKZLdbE0"
      },
      "execution_count": null,
      "outputs": []
    },
    {
      "cell_type": "markdown",
      "source": [
        "**Algoritmo Evolutivo**"
      ],
      "metadata": {
        "id": "G0TjwWBbrod8"
      }
    },
    {
      "cell_type": "markdown",
      "source": [
        "**Declaracion de la clase Red Neuronal**\n",
        "\n",
        "Se define la clase Red Neuronal, que guardara los distintos sesgos y pesos de una determinada red, añadiendo ademas metodos para evaluar dicha red ante una determinada entrada.\n",
        "\n",
        "La clase Nodo solo ha sido creada para una mejor legibilidad del codigo."
      ],
      "metadata": {
        "id": "S0G8ubOhPRHF"
      }
    },
    {
      "cell_type": "code",
      "source": [
        "# Funcion Sigmoide\n",
        "def sigmoide(x):\n",
        "    sig = 1 / (1 + math.exp(-x))\n",
        "    return sig\n",
        "\n",
        "# Para que cada nodo de la capa de entrada tenga una lista de pesos de salida asociada\n",
        "class nodo ():\n",
        "  pesos = []\n",
        "\n",
        "  def __init__(self,pes):\n",
        "      self.pesos = pes\n",
        "\n",
        "class redNeuronal():\n",
        "\n",
        "  sesgoEn = []\n",
        "  sesgoOc = 0\n",
        "  nodosEntrada = []\n",
        "\n",
        "  pesosEntrada = []\n",
        "  pesosOculta = []\n",
        "\n",
        "  #salida = -1\n",
        "\n",
        "  def __init__(self,sesgEn,pesosEntrad,sesgOc,pesosOcult):\n",
        "\n",
        "    self.sesgoEn = sesgEn\n",
        "    self.sesgoOc = sesgOc\n",
        "    self.pesosOculta = pesosOcult\n",
        "    self.pesosEntrada = pesosEntrad\n",
        "\n",
        "    # guardamos los datos de los pesos de entrada en los distintos nodos de la capa de entrada\n",
        "    cont = 0;\n",
        "    for i in range(nEntradas ):\n",
        "      pes = []\n",
        "      for j in range(nOcultas):\n",
        "        pes.append(pesosEntrad[cont])\n",
        "        cont = cont + 1\n",
        "\n",
        "      self.nodosEntrada.append(nodo(pes))\n",
        "\n",
        "  # evalua una lista de entrada\n",
        "  def salida(self,entrada):\n",
        "\n",
        "    # estas salidas de la capa de entrada son las entradas de la capa oculta\n",
        "    salidasEn = []\n",
        "    for i in range(nOcultas):\n",
        "      sal = self.sesgoEn[i]\n",
        "      for j in range(nEntradas):\n",
        "        sal += self.nodosEntrada[j].pesos[i] * entrada[j]\n",
        "\n",
        "      salidasEn.append(sigmoide(sal))\n",
        "\n",
        "    # habria que aplicarle aqui a la lisa de salidas la funcion sigmoide\n",
        "\n",
        "    #print(salidasEn)\n",
        "    sal = self.sesgoOc\n",
        "\n",
        "    for i in range(nOcultas):\n",
        "      sal += self.pesosOculta[i] * salidasEn[i]\n",
        "\n",
        "    # en este caso no aplico la funcion sigmoide como salida\n",
        "    #res = sigmoide(sal)\n",
        "    self.puntuacion = sal #res\n",
        "\n",
        "    return sal #res\n",
        "\n",
        "  def setPesos(self,pesosEntrad,pesosOcult):\n",
        "\n",
        "    self.pesosEntrada = pesosEntrad\n",
        "    self.pesosOculta = pesosOcult\n",
        "    self.nodosEntrada = []\n",
        "    cont = 0;\n",
        "    for i in range(nEntradas ):\n",
        "      pes = []\n",
        "      for j in range(nOcultas):\n",
        "        pes.append(pesosEntrad[cont])\n",
        "        cont = cont + 1\n",
        "\n",
        "      self.nodosEntrada.append(nodo(pes))\n",
        "\n",
        "  def __repr__(self):\n",
        "    return (\"\\nRed Neuronal:\\nSesgo C.Entrada:\\n\"+str(self.sesgoEn)+\"\\nPesos C.Entrada:\\n\" +str(self.pesosEntrada)\n",
        "    +\"\\nSesgo C.Oculta:\\n\"+str(self.sesgoOc)+\"\\nPesos C.Oculta:\\n\"+ str(self.pesosOculta)+\"\\n--------------\\n\")"
      ],
      "metadata": {
        "id": "VHsKLYbaPRnZ"
      },
      "execution_count": null,
      "outputs": []
    },
    {
      "cell_type": "code",
      "source": [],
      "metadata": {
        "id": "nIUMmTvXx_7O"
      },
      "execution_count": null,
      "outputs": []
    },
    {
      "cell_type": "markdown",
      "source": [
        "**Inicializacion Red Neuronal Evolutiva, generación de la población inicial**"
      ],
      "metadata": {
        "id": "_4E7WEfxpFgT"
      }
    },
    {
      "cell_type": "code",
      "source": [
        "# longitud de los pesos\n",
        "def calculaV(lista):\n",
        "  return math.sqrt(sum([number**2 for number in lista]))\n",
        "\n",
        "def actualizaPesos(lista,factorB):\n",
        "  valorV = calculaV(lista)\n",
        "  return [(number*factorB)/valorV  for number in lista]"
      ],
      "metadata": {
        "id": "qWvK6uLae9oD"
      },
      "execution_count": null,
      "outputs": []
    },
    {
      "cell_type": "code",
      "source": [
        "# Genera la lista de individuos iniciales\n",
        "def generaPoblacion():\n",
        "  poblacion = []\n",
        "  for i in range(nIndividuos):\n",
        "    # Genero el sesgo\n",
        "    sesgoE = []\n",
        "    sesgoO = random.uniform(-factorB,factorB)\n",
        "\n",
        "    #Genero los pesos\n",
        "    pesosE = []\n",
        "    pesosO = []\n",
        "\n",
        "    # Inicializa los pesos\n",
        "    for j in range(nEntradas*nOcultas):\n",
        "      pesosE.append(random.uniform(-0.2,0.2))\n",
        "    for j in range(nOcultas):\n",
        "      sesgoE.append(random.uniform(-factorB,factorB))\n",
        "      pesosO.append(random.uniform(-0.2,0.2))\n",
        "\n",
        "    # Actualiza el valor de los pesos\n",
        "\n",
        "    pesosE = actualizaPesos(pesosE,factorB)\n",
        "    pesosO = actualizaPesos(pesosO,factorB)\n",
        "\n",
        "    poblacion.append([redNeuronal(sesgoE,pesosE,sesgoO,pesosO),-1])\n",
        "\n",
        "  return poblacion\n"
      ],
      "metadata": {
        "id": "VyBuz_gGro2c"
      },
      "execution_count": null,
      "outputs": []
    },
    {
      "cell_type": "markdown",
      "source": [
        "**Cruce y mutación**\n",
        "\n",
        "El cruce se aplicara de forma independiente para los pesos de la capa de entrada, los de la capa oculta y los sesgos.\n",
        "\n",
        "El cruce se hará dividiendo cada capa de cada padre en 3 partes, mezclandolas posteriormente con las del otro padre para generar 2 hijos.\n"
      ],
      "metadata": {
        "id": "9Z8AMIfMPIc_"
      }
    },
    {
      "cell_type": "code",
      "source": [
        "\n",
        "# divide una lista en tres\n",
        "def dividir(lista):\n",
        "    tercio = round(len(lista)/3)\n",
        "    return lista[:tercio],lista[tercio:2*tercio], lista[2*tercio:]\n",
        "\n",
        "\n",
        "def mutacionAux(m1): #Enteros(m1):\n",
        "\n",
        "    rn = random.randint(0,len(m1)-1)\n",
        "\n",
        "    mutacion = random.randint(0,1)\n",
        "\n",
        "    # He elegido 0.2 pero puede cambiarse por un valor porcentual\n",
        "    if mutacion == 0:\n",
        "      mutacion = -0.2\n",
        "    else:\n",
        "      mutacion = 0.2\n",
        "\n",
        "    m1[rn]+=mutacion\n",
        "\n",
        "    return m1\n",
        "\n",
        "def mutacion(red):\n",
        "  # mutacion de la capa de entrada\n",
        "  pEn = mutacionAux(red.pesosEntrada)\n",
        "  pOc = mutacionAux(red.pesosOculta)\n",
        "\n",
        "  red.sesgoEn = mutacionAux(red.sesgoEn)\n",
        "\n",
        "  red.setPesos(pEn,pOc)\n",
        "  return red\n",
        "\n",
        "def cruceInde(gen1,gen2,muta = False):\n",
        "\n",
        "  # capa de entrada\n",
        "  mitad1_Gen1, mitad2_Gen1, mitad3_Gen1 = dividir(gen1.pesosEntrada)\n",
        "  mitad1_Gen2, mitad2_Gen2, mitad3_Gen2= dividir(gen2.pesosEntrada)\n",
        "\n",
        "  capEntrada1 = mitad1_Gen1 + mitad3_Gen1 + mitad2_Gen2\n",
        "  capEntrada2 = mitad3_Gen2 + mitad2_Gen1 + mitad1_Gen2\n",
        "\n",
        "  # capa oculta\n",
        "  mitad1_Gen1, mitad2_Gen1, mitad3_Gen1 = dividir(gen1.pesosOculta)\n",
        "  mitad1_Gen2, mitad2_Gen2, mitad3_Gen2 = dividir(gen2.pesosOculta)\n",
        "\n",
        "  capOculta1 = mitad2_Gen2 + mitad1_Gen1 + mitad3_Gen1\n",
        "  capOculta2 = mitad3_Gen2 + mitad2_Gen1 + mitad1_Gen2\n",
        "\n",
        "  # cruzamos los sesgos\n",
        "  sesd1_1,sesd1_2,sesd1_3 = dividir(gen1.sesgoEn)\n",
        "  sesd2_1,sesd2_2,sesd2_3 = dividir(gen2.sesgoEn)\n",
        "\n",
        "  sesgoEn1 = sesd2_2 + sesd1_1 + sesd1_3\n",
        "  sesgoOc1 = gen1.sesgoOc\n",
        "\n",
        "  sesgoEn2 = sesd2_1 +sesd2_3 +sesd1_2\n",
        "  sesgoOc2 = gen2.sesgoOc\n",
        "\n",
        "  return redNeuronal(sesgoEn1,capEntrada1,sesgoOc1,capOculta1), redNeuronal(sesgoEn2,capEntrada2,sesgoOc2,capOculta2)\n",
        "\n",
        "\n",
        "#in1 = redNeuronal([1,1],[1,2,3,4,0,0],1,[10,11])\n",
        "#in2 = redNeuronal([2,2],[5,6,7,8,9,9],2,[20,21])\n",
        "\n",
        "#in3,in4 = cruceInde(in1,in2)\n"
      ],
      "metadata": {
        "id": "dWc8dGkSPfrH"
      },
      "execution_count": null,
      "outputs": []
    },
    {
      "cell_type": "markdown",
      "source": [
        "**Torneo**\n",
        "\n",
        "Genera un torneo entre \"k\" elementos de la poblacion y devuelve el mejor de ellos"
      ],
      "metadata": {
        "id": "YTFj7ZC1bW8Q"
      }
    },
    {
      "cell_type": "code",
      "source": [
        "def torneo(poblacion,k):\n",
        "\n",
        "    index_candidatos = []\n",
        "    candidatos = []\n",
        "\n",
        "\n",
        "    for i in range(k):\n",
        "\n",
        "        index = random.randint(1,len(poblacion)-1)\n",
        "\n",
        "        candidatos.append(poblacion[index][1])\n",
        "        index_candidatos.append(index)\n",
        "\n",
        "    mejor = max(candidatos)\n",
        "    pos = candidatos.index(mejor)\n",
        "\n",
        "    return poblacion[[index_candidatos[pos]][0]]"
      ],
      "metadata": {
        "id": "nAoNAJSJbXWc"
      },
      "execution_count": null,
      "outputs": []
    },
    {
      "cell_type": "markdown",
      "source": [
        "**Evaluacion de poblacion**\n",
        "\n",
        "Se pasa por parametros la poblacion a evaluar, el tablero actual y el fitness de dicho tablero, y se devuelve como puntuacion el error absoluto (a menor puntuacion mejor)"
      ],
      "metadata": {
        "id": "YknB0nBuqU85"
      }
    },
    {
      "cell_type": "code",
      "source": [
        "def evaluarPoblacion(poblacion,tab,eval):\n",
        "\n",
        "  for i in range(nIndividuos):\n",
        "    poblacion[i][1] = abs(poblacion[i][0].salida(tab.tableroRed)-eval)\n",
        "\n",
        "  return poblacion\n"
      ],
      "metadata": {
        "id": "ikahorQCqVV8"
      },
      "execution_count": null,
      "outputs": []
    },
    {
      "cell_type": "markdown",
      "source": [
        "**Operadores Geneticos**\n",
        "\n",
        "Genero una nueva poblacion del doble de tamaño de la original, y me quedo con los n mejores (donde n es el tamaño de la poblacion original). El hecho de coger los n mejores hace que estemos aplicando un tipo de elitismo."
      ],
      "metadata": {
        "id": "wD9tMCU-Zza0"
      }
    },
    {
      "cell_type": "code",
      "source": [
        "def aplicarOperadoresGeneticos(poblacion, k, cProb, mProb,tab,eval):\n",
        "\n",
        "    npoblacion = []\n",
        "    tamPobla = len(poblacion)\n",
        "    doblePobla = 2* tamPobla\n",
        "\n",
        "    while len(npoblacion) != doblePobla:\n",
        "        #Seleccionar padres mediante torneo tamaño k\n",
        "        padrea = torneo(poblacion,k);\n",
        "        padreb = torneo(poblacion,k);\n",
        "\n",
        "        s = [padrea[0],padreb[0]]\n",
        "\n",
        "        #Cruzar padres con probabilidad cProb\n",
        "        if random.randint(1,100) <= cProb*100:\n",
        "            s[0], s[1] = cruceInde(padrea[0],padreb[0])\n",
        "\n",
        "        #Mutar padres con probabilidad mProb\n",
        "        for i in range(2):\n",
        "          if random.randint(1,100) <= mProb*100:\n",
        "            s[i] = mutacion(s[i])\n",
        "\n",
        "         #añadir los hijos a la nueva poblacion\n",
        "        for i in range(2):\n",
        "            if len(npoblacion) < doblePobla:\n",
        "                npoblacion.append([s[i],-1])\n",
        "\n",
        "    # evaluamos la nueva poblacion\n",
        "    npoblacion = evaluarPoblacion(poblacion,tab,eval)\n",
        "\n",
        "    # Ordenamos la poblacion dependiendo de la evaluacion (una puntuacion menor es mejor, ya que es el error)\n",
        "    sortPoblacion = sorted(npoblacion, key=lambda red : red[1]) #reverse = True)\n",
        "\n",
        "    # Cogemos los n mejores, donde n es el tamaño de la poblacion inicial\n",
        "    npoblacion = sortPoblacion[:tamPobla]\n",
        "\n",
        "    return npoblacion #Devolver la nueva poblacion evaluada\n"
      ],
      "metadata": {
        "id": "s-KT-wSzZz2b"
      },
      "execution_count": null,
      "outputs": []
    },
    {
      "cell_type": "markdown",
      "source": [
        "**Programa principal, busqueda del mejor modelo**"
      ],
      "metadata": {
        "id": "zyok0nEO8vGv"
      }
    },
    {
      "cell_type": "markdown",
      "source": [
        "**Busqueda del mejor movimiento**\n",
        "\n",
        "A partir de un estado del tablero se generan todas las opciones posibles y se evaluan por el fitness, decidiendo cual es el mejor movimiento.\n",
        "\n",
        "Tambien se implementara el mismo codigo pero utilizando la red neuronal en vez del fitness."
      ],
      "metadata": {
        "id": "e7M-DDzMdA6J"
      }
    },
    {
      "cell_type": "code",
      "source": [
        "def mejorMovimientoFitness(tableroC):\n",
        "\n",
        "  listaOpcs = opciones(tableroC)\n",
        "\n",
        "  opcionesEval = []\n",
        "\n",
        "  nIt = len(listaOpcs)\n",
        "\n",
        "  # calculo la puntuacion del estado actual, el siguiente estado debe ser mejor\n",
        "  punt = fitness(tableroC)\n",
        "\n",
        "  for i in range(nIt):\n",
        "\n",
        "    nPunt = fitness(listaOpcs[i])\n",
        "\n",
        "    if nPunt > punt :\n",
        "      opcionesEval.append([listaOpcs[i],nPunt])\n",
        "\n",
        "  sortOpcs = sorted(opcionesEval, key=lambda red : red[1], reverse = True)\n",
        "\n",
        "  if (len(opcionesEval) == 0):\n",
        "    return -1\n",
        "  return sortOpcs[0][0]\n"
      ],
      "metadata": {
        "id": "n3-OTQLGhV7D"
      },
      "execution_count": null,
      "outputs": []
    },
    {
      "cell_type": "code",
      "source": [
        "def mejorMovimientoRed(redNeuro,tablero):\n",
        "\n",
        "  listaOpcs = opciones(tablero)\n",
        "\n",
        "  opcionesEval = []\n",
        "\n",
        "  nIt = len(listaOpcs)\n",
        "\n",
        "  # calculo la puntuacion del estado actual, el siguiente estado debe ser mejor\n",
        "  punt = redNeuro.salida(tablero.tableroRed)\n",
        "\n",
        "  for i in range(nIt):\n",
        "\n",
        "    nPunt = redNeuro.salida(listaOpcs[i].tableroRed)\n",
        "\n",
        "    if nPunt > punt :\n",
        "      opcionesEval.append([listaOpcs[i],nPunt])\n",
        "\n",
        "  sortOpcs = sorted(opcionesEval, key=lambda red : red[1], reverse = True)\n",
        "\n",
        "  if (len(opcionesEval) == 0):\n",
        "    return -1\n",
        "  return sortOpcs[0][0]\n"
      ],
      "metadata": {
        "id": "kiPvcMcGgD-5"
      },
      "execution_count": null,
      "outputs": []
    },
    {
      "cell_type": "markdown",
      "source": [
        "**Desarrollo del tablero**\n",
        "\n",
        "Metodos para desarrollar el tablero tanto con el fitness como con el mejor modelo"
      ],
      "metadata": {
        "id": "CMXy8chIkkQa"
      }
    },
    {
      "cell_type": "code",
      "source": [
        "# Desarrollamos el tablero N veces\n",
        "def desarrollarTableroFitness(tabler,N,mostrarParada):\n",
        "\n",
        "  for i in range(N):\n",
        "    auxT = mejorMovimientoFitness(tabler)\n",
        "\n",
        "    # En caso de que no haya un movimiento que mejore el tablero\n",
        "    if auxT == -1:\n",
        "\n",
        "      # Si siguen quedando cartas en la baraja tendriamos que poner\n",
        "      # una nueva carta en cada columna del tablero\n",
        "      barajaA = []\n",
        "      barajaA[:] = tabler.barajaRest\n",
        "\n",
        "      if len(barajaA) == 0:\n",
        "        if mostrarParada:\n",
        "          print(\"Parada: \" , i)\n",
        "        break # no se podria hacer nada mas\n",
        "\n",
        "      else:\n",
        "        tableroA = copy.copy(tabler.tablero)\n",
        "\n",
        "        ultCart = []\n",
        "        ultCart[:] = tabler.ultimaCarta\n",
        "\n",
        "        # Se reparten 10 cartas de la baraja\n",
        "        for j in range(NumColums):\n",
        "          cartaAux = copy.copy(barajaA.pop())\n",
        "          cartaAux.oculta = False\n",
        "          tableroA[ultCart[j] + 1][j] = cartaAux\n",
        "          ultCart[j] += 1\n",
        "\n",
        "          tabler = tableroClass(tableroA,ultCart,barajaA)\n",
        "\n",
        "    else:\n",
        "      tabler = auxT\n",
        "\n",
        "  return tabler"
      ],
      "metadata": {
        "id": "i6SpfWlKwXq-"
      },
      "execution_count": null,
      "outputs": []
    },
    {
      "cell_type": "code",
      "source": [
        "# Desarrollamos el tablero N veces\n",
        "def desarrollarTableroRedNeuronal(redNeuro,tabler,N,mostrarParada):\n",
        "\n",
        "  for i in range(N):\n",
        "    auxT = mejorMovimientoRed(redNeuro,tabler)\n",
        "\n",
        "    # En caso de que no haya un movimiento que mejore el tablero\n",
        "    if auxT == -1:\n",
        "\n",
        "      # Si siguen quedando cartas en la baraja tendriamos que poner\n",
        "      # una nueva carta en cada columna del tablero\n",
        "      barajaA = []\n",
        "      barajaA[:] = tabler.barajaRest\n",
        "\n",
        "      if len(barajaA) == 0:\n",
        "        if mostrarParada:\n",
        "          print(\"Parada: \" , i)\n",
        "        break # no se podria hacer nada mas\n",
        "\n",
        "      else:\n",
        "        tableroA = copy.copy(tabler.tablero)\n",
        "\n",
        "        ultCart = []\n",
        "        ultCart[:] = tabler.ultimaCarta\n",
        "\n",
        "        # Se reparten 10 cartas de la baraja\n",
        "        for j in range(NumColums):\n",
        "          cartaAux = copy.copy(barajaA.pop())\n",
        "          cartaAux.oculta = False\n",
        "          tableroA[ultCart[j] + 1][j] = cartaAux\n",
        "          ultCart[j] += 1\n",
        "\n",
        "          tabler = tableroClass(tableroA,ultCart,barajaA)\n",
        "\n",
        "    else:\n",
        "      tabler = auxT\n",
        "\n",
        "  return tabler"
      ],
      "metadata": {
        "id": "QFyeCG3L5WMU"
      },
      "execution_count": null,
      "outputs": []
    },
    {
      "cell_type": "markdown",
      "source": [
        "**Busqueda de la mejor red neuronal aplicando el algoritmo genético**\n",
        "\n",
        "Se define \"algoGeneti\", metodo que devuelve una poblacion despues de aplicarle n veces el algoritmo genetico\n",
        "\n",
        "Posteriormete se genera la poblacion inicial y se va actualizando utilizando el metodo algoGeneti, cada vez que utilizamos el metodo es con un tablero distinto (utilizando como entradala poblacion generada en la iteracion anterior)"
      ],
      "metadata": {
        "id": "fXciNU61hbQR"
      }
    },
    {
      "cell_type": "code",
      "source": [
        "# A partir de una poblacion inicial aplica el algoritno n veces y devuelve una nueva poblacion\n",
        "def algoGeneti(poblacion,tablero):\n",
        "  eval = fitness(tablero)\n",
        "\n",
        "  # Genera la poblacion inicial y la evalua\n",
        "  npoblacion = evaluarPoblacion(poblacion,tablero,eval)\n",
        "\n",
        "  # Numero X de iteraciones aplicando el algoritmo evolutivo\n",
        "  for i in range(nIteraEvol):\n",
        "    # Se genera la nueva poblacion a partir de cruzar a la poblacion anterior, esta ordenada por evaluacion\n",
        "    nPoblacion = aplicarOperadoresGeneticos(npoblacion,k,cProb,mProb,tablero,eval)\n",
        "\n",
        "  return nPoblacion"
      ],
      "metadata": {
        "id": "lRJg-YlEcrZm"
      },
      "execution_count": null,
      "outputs": []
    },
    {
      "cell_type": "markdown",
      "source": [
        "**Creacion de los N tableros sobre los que trabajaremos**"
      ],
      "metadata": {
        "id": "87a6EXn7159d"
      }
    },
    {
      "cell_type": "code",
      "source": [
        "listaTableros = []\n",
        "\n",
        "for i in range(numTabl):\n",
        "  tableroA = generaTableroAle()\n",
        "  tableroA = desarrollarTableroFitness(tableroA,(i*5) + 5,False)\n",
        "  listaTableros.append(tableroA)"
      ],
      "metadata": {
        "id": "HSLijSBU2yOG"
      },
      "execution_count": null,
      "outputs": []
    },
    {
      "cell_type": "markdown",
      "source": [
        "**Aplicacion del algoritmo genetico sobre los tableros**"
      ],
      "metadata": {
        "id": "ZywpCeTB4c3O"
      }
    },
    {
      "cell_type": "code",
      "source": [
        "# Se aplica el algoritmo genetico para la poblacion utilizando\n",
        "# en cada iteracion un tablero distinto para la evaluacion\n",
        "poblacion = generaPoblacion()\n",
        "numTableros = len(listaTableros)\n",
        "\n",
        "for i in range(numTableros):\n",
        "  print(i)\n",
        "  poblacion = algoGeneti(poblacion,listaTableros[i])\n",
        "\n",
        "# poblacion[0] -> el mejor modelo\n",
        "mejorModelo = poblacion[0][0]\n"
      ],
      "metadata": {
        "colab": {
          "base_uri": "https://localhost:8080/"
        },
        "id": "gPptFWyN4ayR",
        "outputId": "231c6930-2b3f-4cdc-a7fb-42125fb95702"
      },
      "execution_count": null,
      "outputs": [
        {
          "output_type": "stream",
          "name": "stdout",
          "text": [
            "0\n",
            "1\n",
            "2\n",
            "3\n",
            "4\n",
            "5\n",
            "6\n",
            "7\n",
            "8\n",
            "9\n"
          ]
        }
      ]
    },
    {
      "cell_type": "markdown",
      "source": [
        "**Comparacion entre el mejor modelo de red neuronal y el modelo fitness inicial**"
      ],
      "metadata": {
        "id": "b1HLNZZF4x_v"
      }
    },
    {
      "cell_type": "code",
      "source": [
        "# Generamos un nuevo tablero\n",
        "tableroP1 = generaTableroAle()\n",
        "tableroP2 = copy.copy(tableroP1)\n",
        "\n",
        "print(tableroP1)\n",
        "\n",
        "tableroF1 = desarrollarTableroFitness(tableroP1,100,True)\n",
        "print(tableroF1)\n",
        "print(\"Fitness: \",fitness(tableroF1) )\n",
        "print(\"\\n-------------------\\n\")\n",
        "tableroF2 = desarrollarTableroRedNeuronal(mejorModelo,tableroP2,100,True)\n",
        "print(tableroF2)\n",
        "print(\"Fitness: \",fitness(tableroF2) )"
      ],
      "metadata": {
        "colab": {
          "base_uri": "https://localhost:8080/"
        },
        "id": "GVUGaLlx4xdb",
        "outputId": "2964428c-113f-49e0-ae83-e10dadabe421"
      },
      "execution_count": null,
      "outputs": [
        {
          "output_type": "stream",
          "name": "stdout",
          "text": [
            "\n",
            "-------------------------------\n",
            "[[XXX XXX XXX XXX XXX XXX XXX XXX XXX XXX]\n",
            " [XXX XXX XXX XXX XXX XXX XXX XXX XXX XXX]\n",
            " [XXX XXX XXX XXX XXX XXX XXX XXX XXX XXX]\n",
            " [XXX XXX XXX XXX XXX XXX XXX XXX XXX XXX]\n",
            " [XXX XXX XXX XXX D10 D1  C3  D9  P1  P3 ]\n",
            " [D10 C3  T11 D6                         ]\n",
            " [                                       ]\n",
            " [                                       ]\n",
            " [                                       ]\n",
            " [                                       ]\n",
            " [                                       ]\n",
            " [                                       ]\n",
            " [                                       ]\n",
            " [                                       ]\n",
            " [                                       ]\n",
            " [                                       ]\n",
            " [                                       ]\n",
            " [                                       ]\n",
            " [                                       ]\n",
            " [                                       ]\n",
            " [                                       ]\n",
            " [                                       ]\n",
            " [                                       ]\n",
            " [                                       ]\n",
            " [                                       ]\n",
            " [                                       ]\n",
            " [                                       ]\n",
            " [                                       ]]\n",
            "\n",
            "[5, 5, 5, 5, 4, 4, 4, 4, 4, 4]\n",
            "Parada:  40\n",
            "\n",
            "-------------------------------\n",
            "[[XXX XXX XXX XXX XXX XXX XXX XXX XXX P12]\n",
            " [XXX XXX XXX XXX XXX XXX XXX XXX XXX T2 ]\n",
            " [XXX XXX XXX XXX XXX XXX XXX XXX XXX    ]\n",
            " [D9  XXX XXX XXX XXX P2  XXX T6  XXX    ]\n",
            " [T10 XXX XXX XXX D10 C9  C3  T1  P1     ]\n",
            " [T11 C3  T11 D6  P9  C8  T13 C8  T13    ]\n",
            " [C7  D6  D10 D3  T10     P12 D7  D12    ]\n",
            " [P3  T5  D9  C11 T8      P11 C6  D11    ]\n",
            " [T2  D4  P6  T3  T7      C10 P5  T12    ]\n",
            " [    T3  D5  D2  D12     T9      C9     ]\n",
            " [    C2  P8  C1  C12     P8      D8     ]\n",
            " [    D1  P7      D2      T7      D7     ]\n",
            " [        C6                             ]\n",
            " [        C5                             ]\n",
            " [        P4                             ]\n",
            " [        P3                             ]\n",
            " [        C12                            ]\n",
            " [        D3                             ]\n",
            " [        C2                             ]\n",
            " [                                       ]\n",
            " [                                       ]\n",
            " [                                       ]\n",
            " [                                       ]\n",
            " [                                       ]\n",
            " [                                       ]\n",
            " [                                       ]\n",
            " [                                       ]\n",
            " [                                       ]]\n",
            "\n",
            "[8, 11, 18, 10, 11, 5, 11, 8, 11, 1]\n",
            "Fitness:  3.3\n",
            "\n",
            "-------------------\n",
            "\n",
            "Parada:  25\n",
            "\n",
            "-------------------------------\n",
            "[[XXX XXX XXX XXX XXX XXX XXX XXX XXX XXX]\n",
            " [XXX XXX XXX XXX XXX XXX XXX XXX XXX XXX]\n",
            " [XXX XXX XXX XXX XXX XXX XXX XXX XXX XXX]\n",
            " [XXX XXX XXX XXX C13 XXX XXX T6  XXX XXX]\n",
            " [XXX XXX XXX XXX T10 D1  C3  T1  P1  P3 ]\n",
            " [D10 C3  T11 D6  T8  C9  D11 C8  T13 T5 ]\n",
            " [T10 D6  D10 C11 D12     T13 C2  D12 P7 ]\n",
            " [C9  P12 D9  T3  P11     P12 C8  C5     ]\n",
            " [P3  D7  P6  D2  C12     C2  T7  T12    ]\n",
            " [    C6  D5  T9                  P5     ]\n",
            " [    P8  D4  D8                         ]\n",
            " [    C7  D3  D7                         ]\n",
            " [    T3  P8  T2                         ]\n",
            " [    T2  C12                            ]\n",
            " [        T11                            ]\n",
            " [        C10                            ]\n",
            " [        D3                             ]\n",
            " [        D2                             ]\n",
            " [                                       ]\n",
            " [                                       ]\n",
            " [                                       ]\n",
            " [                                       ]\n",
            " [                                       ]\n",
            " [                                       ]\n",
            " [                                       ]\n",
            " [                                       ]\n",
            " [                                       ]\n",
            " [                                       ]]\n",
            "\n",
            "[8, 13, 17, 12, 8, 5, 8, 8, 9, 6]\n",
            "Fitness:  0.3\n"
          ]
        }
      ]
    }
  ]
}